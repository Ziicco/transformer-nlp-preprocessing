{
 "cells": [
  {
   "cell_type": "code",
   "execution_count": null,
   "id": "c5952206-b23a-4c43-8e48-f81f131da1cd",
   "metadata": {},
   "outputs": [],
   "source": [
    "import torch\n",
    "import torch.nn as nn\n",
    "import nltk\n",
    "from nltk.tokenize import word_tokenize\n",
    "from nltk.stem import WordNetLemmatizer, PorterStemmer\n"
   ]
  },
  {
   "cell_type": "code",
   "execution_count": null,
   "id": "923d08fc-74de-4790-9c70-d36507e941d7",
   "metadata": {},
   "outputs": [],
   "source": [
    "# Download required NLTK resources\n",
    "nltk.download('punkt')\n",
    "nltk.download('punkt_tab')\n",
    "nltk.download('wordnet')\n"
   ]
  },
  {
   "cell_type": "code",
   "execution_count": null,
   "id": "99934d8b-0262-4c14-b461-960b4a3232ce",
   "metadata": {},
   "outputs": [],
   "source": [
    "# Sample text\n",
    "text = \"This is an example sentence for text preprocessing.\"\n",
    "\n",
    "# Tokenization\n",
    "tokens = word_tokenize(text)\n",
    "print(\"Tokens:\", tokens)\n"
   ]
  },
  {
   "cell_type": "code",
   "execution_count": null,
   "id": "7b2ec8a4-ed17-4ec7-991f-5208cdef05a3",
   "metadata": {},
   "outputs": [],
   "source": [
    "# Stemming (using PorterStemmer)\n",
    "stemmer = PorterStemmer()\n",
    "stemmed_tokens = [stemmer.stem(token) for token in tokens]\n",
    "print(\"Stemmed Tokens:\", stemmed_tokens)\n"
   ]
  },
  {
   "cell_type": "code",
   "execution_count": null,
   "id": "fe2f9c80-a87a-4807-a813-4a3ea3510510",
   "metadata": {},
   "outputs": [],
   "source": [
    "# Lemmatization (using WordNetLemmatizer)\n",
    "lemmatizer = WordNetLemmatizer()\n",
    "lemmatized_tokens = [lemmatizer.lemmatize(token) for token in tokens]\n",
    "print(\"Lemmatized Tokens:\", lemmatized_tokens)\n"
   ]
  },
  {
   "cell_type": "code",
   "execution_count": null,
   "id": "bcb507f7-a09a-45b7-b80f-fa790a41b621",
   "metadata": {},
   "outputs": [],
   "source": [
    "# Convert tokens to PyTorch tensors\n",
    "token_tensors = [torch.tensor([ord(c) for c in token]) for token in tokens if token] # \"if token\" checks that its not an empty string\n",
    "print(\"Token Tensors:\", token_tensors)\n"
   ]
  },
  {
   "cell_type": "code",
   "execution_count": null,
   "id": "83c51d5e-8752-4347-886f-948314b0ba1c",
   "metadata": {},
   "outputs": [],
   "source": []
  }
 ],
 "metadata": {
  "kernelspec": {
   "display_name": "Python [conda env:projects] *",
   "language": "python",
   "name": "conda-env-projects-py"
  },
  "language_info": {
   "codemirror_mode": {
    "name": "ipython",
    "version": 3
   },
   "file_extension": ".py",
   "mimetype": "text/x-python",
   "name": "python",
   "nbconvert_exporter": "python",
   "pygments_lexer": "ipython3",
   "version": "3.12.8"
  }
 },
 "nbformat": 4,
 "nbformat_minor": 5
}
