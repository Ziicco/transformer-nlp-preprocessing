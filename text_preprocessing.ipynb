{
 "cells": [
  {
   "cell_type": "code",
   "execution_count": null,
   "id": "c5952206-b23a-4c43-8e48-f81f131da1cd",
   "metadata": {},
   "outputs": [],
   "source": [
    "import torch\n",
    "\n",
    "import nltk\n",
    "from nltk.tokenize import word_tokenize\n",
    "from nltk.stem import WordNetLemmatizer\n",
    "from nltk.corpus import stopwords\n",
    "from nltk import pos_tag\n",
    "\n",
    "import string\n",
    "from transformers import AutoTokenizer, AutoModel\n"
   ]
  },
  {
   "cell_type": "code",
   "execution_count": null,
   "id": "923d08fc-74de-4790-9c70-d36507e941d7",
   "metadata": {},
   "outputs": [],
   "source": [
    "# Download required NLTK resources\n",
    "nltk.download('punkt')\n",
    "nltk.download('wordnet')\n",
    "nltk.download('stopwords')\n",
    "nltk.download('averaged_perceptron_tagger')\n",
    "nltk.download('averaged_perceptron_tagger_eng')\n"
   ]
  },
  {
   "cell_type": "code",
   "execution_count": null,
   "id": "8edf3db5-0263-4c3d-b757-b1bc0ca3f596",
   "metadata": {
    "scrolled": true
   },
   "outputs": [],
   "source": [
    "# Load a Transformer-based model\n",
    "model_name = \"bert-base-uncased\"\n",
    "tokenizer = AutoTokenizer.from_pretrained(model_name)\n",
    "model = AutoModel.from_pretrained(model_name)\n"
   ]
  },
  {
   "cell_type": "code",
   "execution_count": null,
   "id": "99934d8b-0262-4c14-b461-960b4a3232ce",
   "metadata": {},
   "outputs": [],
   "source": [
    "# Sample text\n",
    "text = \"This is an example sentence for advanced text preprocessing using Python and PyTorch!\"\n",
    "\n",
    "# Tokenization\n",
    "tokens = word_tokenize(text)\n",
    "print(\"Tokens:\", tokens)\n"
   ]
  },
  {
   "cell_type": "code",
   "execution_count": null,
   "id": "28e22cd6-b432-4323-b63f-c84f7f561a60",
   "metadata": {
    "panel-layout": {
     "height": 0,
     "visible": true,
     "width": 100
    }
   },
   "outputs": [],
   "source": [
    "# Part-of-Speech Tagging\n",
    "pos_tags = pos_tag(tokens)\n",
    "print(\"POS Tags:\", pos_tags)\n"
   ]
  },
  {
   "cell_type": "code",
   "execution_count": null,
   "id": "fe2f9c80-a87a-4807-a813-4a3ea3510510",
   "metadata": {},
   "outputs": [],
   "source": [
    "# Lemmatization with POS for context-aware lemmatization\n",
    "lemmatizer = WordNetLemmatizer()\n",
    "def pos_to_wordnet_tag(pos_tag):\n",
    "    if pos_tag.startswith('J'):\n",
    "        return 'a'  # adjective\n",
    "    elif pos_tag.startswith('V'):\n",
    "        return 'v'  # verb\n",
    "    elif pos_tag.startswith('N'):\n",
    "        return 'n'  # noun\n",
    "    elif pos_tag.startswith('R'):\n",
    "        return 'r'  # adverb\n",
    "    else:\n",
    "        return 'n'  # default to noun\n",
    "\n",
    "lemmatized_tokens = [\n",
    "    lemmatizer.lemmatize(token, pos=pos_to_wordnet_tag(tag)) for token, tag in pos_tags\n",
    "]\n",
    "print(\"Lemmatized Tokens:\", lemmatized_tokens)\n"
   ]
  },
  {
   "cell_type": "code",
   "execution_count": null,
   "id": "da87053e-dd3f-4117-97c0-ea4d61ca6ef3",
   "metadata": {
    "panel-layout": {
     "height": 0,
     "visible": true,
     "width": 100
    }
   },
   "outputs": [],
   "source": [
    "# Remove stopwords\n",
    "stop_words = set(stopwords.words('english'))\n",
    "filtered_tokens = [token for token in lemmatized_tokens if token.lower() not in stop_words]\n",
    "print(\"Filtered Tokens (No Stopwords):\", filtered_tokens)\n"
   ]
  },
  {
   "cell_type": "code",
   "execution_count": null,
   "id": "8e8fd398-aafb-49df-b587-af951c71d78a",
   "metadata": {
    "panel-layout": {
     "height": 0,
     "visible": true,
     "width": 100
    }
   },
   "outputs": [],
   "source": [
    "# Convert tokens to lower-case and remove punctuation\n",
    "processed_tokens = [\n",
    "    token.lower() for token in filtered_tokens if token not in string.punctuation\n",
    "]\n",
    "print(\"Processed Tokens (Lowercase and No Punctuation):\", processed_tokens)\n"
   ]
  },
  {
   "cell_type": "code",
   "execution_count": null,
   "id": "780dd268-b011-4853-917c-0e8253de4d44",
   "metadata": {},
   "outputs": [],
   "source": [
    "# Convert tokens to embeddings using a pretrained Transformer\n",
    "input_text = \" \".join(processed_tokens)  # Combine tokens into a single sentence for context\n",
    "encoded_input = tokenizer(input_text, return_tensors=\"pt\", padding=True, truncation=True)\n"
   ]
  },
  {
   "cell_type": "code",
   "execution_count": null,
   "id": "f87f3290-18fc-4ec7-a92f-4d880c427eca",
   "metadata": {},
   "outputs": [],
   "source": [
    "# Pass tokens through the model to extract embeddings\n",
    "with torch.no_grad():\n",
    "    output = model(**encoded_input)\n"
   ]
  },
  {
   "cell_type": "code",
   "execution_count": null,
   "id": "5f5a0cd4-1bdb-424d-a958-ed69f313bb25",
   "metadata": {},
   "outputs": [],
   "source": [
    "# Extract sentence-level embedding\n",
    "sentence_embedding = output.last_hidden_state[:, 0, :]\n",
    "print(\"Sentence Embedding Shape:\", sentence_embedding.shape)\n"
   ]
  },
  {
   "cell_type": "code",
   "execution_count": null,
   "id": "ea3b00e2-0a50-4cb9-893a-45a8293a667e",
   "metadata": {},
   "outputs": [],
   "source": [
    "# Token-level embeddings\n",
    "token_embeddings = output.last_hidden_state\n",
    "print(\"Token Embeddings Shape:\", token_embeddings.shape)\n"
   ]
  },
  {
   "cell_type": "code",
   "execution_count": null,
   "id": "a1800f19-3b02-42de-9261-26919d4f25c2",
   "metadata": {
    "scrolled": true
   },
   "outputs": [],
   "source": [
    "# Normalize embeddings for downstream use\n",
    "from torch.nn.functional import normalize\n",
    "normalized_embedding = normalize(sentence_embedding, p=2, dim=1)\n",
    "print(\"Normalized Sentence Embedding:\", normalized_embedding)\n"
   ]
  },
  {
   "cell_type": "code",
   "execution_count": null,
   "id": "e7991a5f-cb58-454a-8b6d-4ce9934aa71c",
   "metadata": {},
   "outputs": [],
   "source": []
  }
 ],
 "metadata": {
  "kernelspec": {
   "display_name": "Python [conda env:projects] *",
   "language": "python",
   "name": "conda-env-projects-py"
  },
  "language_info": {
   "codemirror_mode": {
    "name": "ipython",
    "version": 3
   },
   "file_extension": ".py",
   "mimetype": "text/x-python",
   "name": "python",
   "nbconvert_exporter": "python",
   "pygments_lexer": "ipython3",
   "version": "3.12.8"
  }
 },
 "nbformat": 4,
 "nbformat_minor": 5
}
