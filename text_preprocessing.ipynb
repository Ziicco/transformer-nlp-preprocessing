{
 "cells": [
  {
   "cell_type": "code",
   "execution_count": null,
   "id": "c5952206-b23a-4c43-8e48-f81f131da1cd",
   "metadata": {},
   "outputs": [],
   "source": [
    "import torch\n",
    "import nltk\n",
    "from nltk.corpus import stopwords\n",
    "from transformers import AutoTokenizer, AutoModel\n"
   ]
  },
  {
   "cell_type": "code",
   "execution_count": null,
   "id": "8edf3db5-0263-4c3d-b757-b1bc0ca3f596",
   "metadata": {
    "scrolled": true
   },
   "outputs": [],
   "source": [
    "# Download required NLTK resources\n",
    "nltk.download('stopwords')\n",
    "\n",
    "# Load a Transformer-based model\n",
    "model_name = \"bert-base-uncased\"\n",
    "tokenizer = AutoTokenizer.from_pretrained(model_name)\n",
    "model = AutoModel.from_pretrained(model_name)\n"
   ]
  },
  {
   "cell_type": "code",
   "execution_count": null,
   "id": "99934d8b-0262-4c14-b461-960b4a3232ce",
   "metadata": {},
   "outputs": [],
   "source": [
    "# Sample text\n",
    "text = \"This is an example sentence for advanced text preprocessing using Python and PyTorch!\"\n",
    "\n",
    "# Tokenization\n",
    "tokens = tokenizer.tokenize(text)\n",
    "print(\"Subword Tokens:\", tokens)\n"
   ]
  },
  {
   "cell_type": "code",
   "execution_count": null,
   "id": "929ff1da-af22-448f-9bd2-9617f99044d8",
   "metadata": {},
   "outputs": [],
   "source": [
    "# Convert tokens to IDs\n",
    "token_ids = tokenizer.convert_tokens_to_ids(tokens)\n",
    "print(\"Token IDs:\", token_ids)\n"
   ]
  },
  {
   "cell_type": "code",
   "execution_count": null,
   "id": "dcaa2713-910a-4043-8df8-e309f9fc10f6",
   "metadata": {
    "scrolled": true
   },
   "outputs": [],
   "source": [
    "# Add special tokens ([CLS] and [SEP]) for transformer input\n",
    "encoded_input = tokenizer(\n",
    "    text, return_tensors=\"pt\", truncation=True, padding=\"max_length\", max_length=20\n",
    ")\n",
    "print(\"Encoded Input:\", encoded_input)\n"
   ]
  },
  {
   "cell_type": "code",
   "execution_count": null,
   "id": "f98b4065-73b8-4689-9040-6a5720a5616e",
   "metadata": {},
   "outputs": [],
   "source": [
    "# Stopword removal (if needed, though modern NLP models handle stopwords inherently)\n",
    "stop_words = set(stopwords.words(\"english\"))\n",
    "filtered_tokens = [\n",
    "    token for token in tokens if token not in stop_words and token not in tokenizer.all_special_tokens\n",
    "]\n",
    "print(\"Filtered Tokens:\", filtered_tokens)\n"
   ]
  },
  {
   "cell_type": "code",
   "execution_count": null,
   "id": "4035b3d6-e33d-4f85-b38f-6d04fb9e2ca4",
   "metadata": {},
   "outputs": [],
   "source": [
    "# Generate contextualized embeddings using the pretrained transformer model\n",
    "with torch.no_grad():\n",
    "    outputs = model(**encoded_input)\n",
    "    token_embeddings = outputs.last_hidden_state\n",
    "print(\"Token Embeddings Shape:\", token_embeddings.shape)\n"
   ]
  },
  {
   "cell_type": "code",
   "execution_count": null,
   "id": "457a7788-ec64-4e4d-bef1-f36255556e0a",
   "metadata": {},
   "outputs": [],
   "source": [
    "# Extract sentence embedding\n",
    "sentence_embedding = token_embeddings[:, 0, :]  # [CLS] token representation\n",
    "print(\"Sentence Embedding Shape:\", sentence_embedding.shape)\n"
   ]
  },
  {
   "cell_type": "code",
   "execution_count": null,
   "id": "e7991a5f-cb58-454a-8b6d-4ce9934aa71c",
   "metadata": {},
   "outputs": [],
   "source": []
  }
 ],
 "metadata": {
  "kernelspec": {
   "display_name": "Python [conda env:projects] *",
   "language": "python",
   "name": "conda-env-projects-py"
  },
  "language_info": {
   "codemirror_mode": {
    "name": "ipython",
    "version": 3
   },
   "file_extension": ".py",
   "mimetype": "text/x-python",
   "name": "python",
   "nbconvert_exporter": "python",
   "pygments_lexer": "ipython3",
   "version": "3.12.8"
  }
 },
 "nbformat": 4,
 "nbformat_minor": 5
}
