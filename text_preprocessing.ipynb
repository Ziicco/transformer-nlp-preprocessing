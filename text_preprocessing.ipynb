{
 "cells": [
  {
   "cell_type": "code",
   "execution_count": null,
   "id": "c5952206-b23a-4c43-8e48-f81f131da1cd",
   "metadata": {},
   "outputs": [],
   "source": [
    "import torch\n",
    "import torch.nn as nn\n",
    "import nltk\n",
    "from nltk.tokenize import word_tokenize\n",
    "from nltk.stem import WordNetLemmatizer\n",
    "from nltk.corpus import stopwords\n",
    "from nltk import pos_tag\n"
   ]
  },
  {
   "cell_type": "code",
   "execution_count": null,
   "id": "923d08fc-74de-4790-9c70-d36507e941d7",
   "metadata": {},
   "outputs": [],
   "source": [
    "# Download required NLTK resources\n",
    "nltk.download('punkt')\n",
    "nltk.download('wordnet')\n",
    "nltk.download('stopwords')\n",
    "nltk.download('averaged_perceptron_tagger')\n",
    "nltk.download('averaged_perceptron_tagger_eng')\n"
   ]
  },
  {
   "cell_type": "code",
   "execution_count": null,
   "id": "99934d8b-0262-4c14-b461-960b4a3232ce",
   "metadata": {},
   "outputs": [],
   "source": [
    "# Sample text\n",
    "text = \"This is an example sentence for advanced text preprocessing using Python and PyTorch!\"\n",
    "\n",
    "# Tokenization\n",
    "tokens = word_tokenize(text)\n",
    "print(\"Tokens:\", tokens)\n"
   ]
  },
  {
   "cell_type": "code",
   "execution_count": null,
   "id": "28e22cd6-b432-4323-b63f-c84f7f561a60",
   "metadata": {
    "panel-layout": {
     "height": 0,
     "visible": true,
     "width": 100
    }
   },
   "outputs": [],
   "source": [
    "# Part-of-Speech Tagging\n",
    "pos_tags = pos_tag(tokens)\n",
    "print(\"POS Tags:\", pos_tags)\n"
   ]
  },
  {
   "cell_type": "code",
   "execution_count": null,
   "id": "fe2f9c80-a87a-4807-a813-4a3ea3510510",
   "metadata": {},
   "outputs": [],
   "source": [
    "# Lemmatization with POS for context-aware lemmatization\n",
    "lemmatizer = WordNetLemmatizer()\n",
    "def pos_to_wordnet_tag(pos_tag):\n",
    "    if pos_tag.startswith('J'):\n",
    "        return 'a'  # adjective\n",
    "    elif pos_tag.startswith('V'):\n",
    "        return 'v'  # verb\n",
    "    elif pos_tag.startswith('N'):\n",
    "        return 'n'  # noun\n",
    "    elif pos_tag.startswith('R'):\n",
    "        return 'r'  # adverb\n",
    "    else:\n",
    "        return 'n'  # default to noun\n",
    "\n",
    "lemmatized_tokens = [\n",
    "    lemmatizer.lemmatize(token, pos=pos_to_wordnet_tag(tag)) for token, tag in pos_tags\n",
    "]\n",
    "print(\"Lemmatized Tokens:\", lemmatized_tokens)\n"
   ]
  },
  {
   "cell_type": "code",
   "execution_count": null,
   "id": "da87053e-dd3f-4117-97c0-ea4d61ca6ef3",
   "metadata": {
    "panel-layout": {
     "height": 0,
     "visible": true,
     "width": 100
    }
   },
   "outputs": [],
   "source": [
    "# Remove stopwords\n",
    "stop_words = set(stopwords.words('english'))\n",
    "filtered_tokens = [token for token in lemmatized_tokens if token.lower() not in stop_words]\n",
    "print(\"Filtered Tokens (No Stopwords):\", filtered_tokens)\n"
   ]
  },
  {
   "cell_type": "code",
   "execution_count": null,
   "id": "8e8fd398-aafb-49df-b587-af951c71d78a",
   "metadata": {
    "panel-layout": {
     "height": 0,
     "visible": true,
     "width": 100
    }
   },
   "outputs": [],
   "source": [
    "# Convert tokens to lower-case and remove punctuation\n",
    "import string\n",
    "processed_tokens = [\n",
    "    token.lower() for token in filtered_tokens if token not in string.punctuation\n",
    "]\n",
    "print(\"Processed Tokens (Lowercase and No Punctuation):\", processed_tokens)\n"
   ]
  },
  {
   "cell_type": "code",
   "execution_count": null,
   "id": "889192b4-cc2a-49ae-b487-fadc82bc3b2c",
   "metadata": {
    "panel-layout": {
     "height": 0,
     "visible": true,
     "width": 100
    },
    "scrolled": true
   },
   "outputs": [],
   "source": [
    "# Prepare PyTorch tensors with embeddings (e.g., character-level encoding)\n",
    "def token_to_tensor(token):\n",
    "    return torch.tensor([ord(c) for c in token], dtype=torch.float)\n",
    "\n",
    "token_tensors = [token_to_tensor(token) for token in processed_tokens]\n",
    "print(\"Token Tensors:\", token_tensors)\n"
   ]
  },
  {
   "cell_type": "code",
   "execution_count": null,
   "id": "5a4632d4-5bca-47a2-b767-370eb97c28de",
   "metadata": {
    "panel-layout": {
     "height": 0,
     "visible": true,
     "width": 100
    }
   },
   "outputs": [],
   "source": [
    "# For compatibility with downstream tasks, pad tensors to equal length\n",
    "from torch.nn.utils.rnn import pad_sequence\n",
    "padded_tensors = pad_sequence(token_tensors, batch_first=True, padding_value=0)\n",
    "print(\"Padded Token Tensors:\", padded_tensors)\n"
   ]
  },
  {
   "cell_type": "code",
   "execution_count": null,
   "id": "83c51d5e-8752-4347-886f-948314b0ba1c",
   "metadata": {},
   "outputs": [],
   "source": []
  }
 ],
 "metadata": {
  "kernelspec": {
   "display_name": "Python [conda env:projects] *",
   "language": "python",
   "name": "conda-env-projects-py"
  },
  "language_info": {
   "codemirror_mode": {
    "name": "ipython",
    "version": 3
   },
   "file_extension": ".py",
   "mimetype": "text/x-python",
   "name": "python",
   "nbconvert_exporter": "python",
   "pygments_lexer": "ipython3",
   "version": "3.12.8"
  }
 },
 "nbformat": 4,
 "nbformat_minor": 5
}
